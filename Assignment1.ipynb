{
  "nbformat": 4,
  "nbformat_minor": 0,
  "metadata": {
    "colab": {
      "provenance": [],
      "authorship_tag": "ABX9TyMQNnsEdWQeeGMLYOQBmYBY",
      "include_colab_link": true
    },
    "kernelspec": {
      "name": "python3",
      "display_name": "Python 3"
    },
    "language_info": {
      "name": "python"
    }
  },
  "cells": [
    {
      "cell_type": "markdown",
      "metadata": {
        "id": "view-in-github",
        "colab_type": "text"
      },
      "source": [
        "<a href=\"https://colab.research.google.com/github/vvanarasi/BITS/blob/main/Assignment1.ipynb\" target=\"_parent\"><img src=\"https://colab.research.google.com/assets/colab-badge.svg\" alt=\"Open In Colab\"/></a>"
      ]
    },
    {
      "cell_type": "code",
      "execution_count": null,
      "metadata": {
        "colab": {
          "base_uri": "https://localhost:8080/"
        },
        "id": "bMutLHmlzUTN",
        "outputId": "081e8fbf-60fe-41cf-8a87-04c8bc9a0901"
      },
      "outputs": [
        {
          "output_type": "stream",
          "name": "stdout",
          "text": [
            "24\n"
          ]
        }
      ],
      "source": [
        "def factorial(n):\n",
        "  if n == 0:\n",
        "    return 1\n",
        "  elif n == 1:\n",
        "    return 1\n",
        "  else:\n",
        "    return n * factorial(n-1)\n",
        "\n",
        "print(factorial(4))\n"
      ]
    },
    {
      "cell_type": "code",
      "source": [
        "list1=[1,2,3,4]\n",
        "list2=[3,4,5,6]\n",
        "for i in list1:\n",
        "  if i in list2:\n",
        "    print(i)\n"
      ],
      "metadata": {
        "colab": {
          "base_uri": "https://localhost:8080/"
        },
        "id": "6ssXslwx0b6i",
        "outputId": "ad8f1431-f4b4-4590-afe6-5499c4a962a5"
      },
      "execution_count": null,
      "outputs": [
        {
          "output_type": "stream",
          "name": "stdout",
          "text": [
            "3\n",
            "4\n"
          ]
        }
      ]
    },
    {
      "cell_type": "code",
      "source": [
        "list1 = [1,2,2,3,3,3,4]\n",
        "dict1 = {}\n",
        "for i in list1:\n",
        "  if i in dict1:\n",
        "    dict1[i] += 1\n",
        "  else:\n",
        "    dict1[i] = 1\n",
        "print(dict1)"
      ],
      "metadata": {
        "colab": {
          "base_uri": "https://localhost:8080/"
        },
        "id": "lmhYH54C1WLn",
        "outputId": "292d0bec-76e7-4fee-968d-a130f1434c72"
      },
      "execution_count": null,
      "outputs": [
        {
          "output_type": "stream",
          "name": "stdout",
          "text": [
            "{1: 1, 2: 2, 3: 3, 4: 1}\n"
          ]
        }
      ]
    },
    {
      "cell_type": "code",
      "source": [
        "list1 = [1,2,2,3,4,3,3,4,7,8,4]\n",
        "set1 = set(list1)\n",
        "print(set1)"
      ],
      "metadata": {
        "colab": {
          "base_uri": "https://localhost:8080/"
        },
        "id": "9L7jsxRs2xEe",
        "outputId": "ee830578-5b1b-4516-e98b-71506fd5b0f3"
      },
      "execution_count": null,
      "outputs": [
        {
          "output_type": "stream",
          "name": "stdout",
          "text": [
            "{1, 2, 3, 4, 7, 8}\n"
          ]
        }
      ]
    },
    {
      "cell_type": "code",
      "source": [
        "def factorial(n):\n",
        "  if n == 0:\n",
        "    return 1\n",
        "  elif n == 1:\n",
        "    return 1\n",
        "  else:\n",
        "    return n * factorial(n-1)\n",
        "\n",
        "def binomialcoeff(n,r):\n",
        "  return factorial(n)/(factorial(r) * factorial(n-r))\n",
        "\n",
        "print(binomialcoeff(6,3))"
      ],
      "metadata": {
        "colab": {
          "base_uri": "https://localhost:8080/"
        },
        "id": "ADV3foJy3TfQ",
        "outputId": "8679fe8a-b11c-447b-c3e8-897c0a4ddafb"
      },
      "execution_count": null,
      "outputs": [
        {
          "output_type": "stream",
          "name": "stdout",
          "text": [
            "20.0\n"
          ]
        }
      ]
    },
    {
      "cell_type": "code",
      "source": [
        "string1  = \"hello\"\n",
        "print(string1[::-1])\n"
      ],
      "metadata": {
        "colab": {
          "base_uri": "https://localhost:8080/"
        },
        "id": "uc4WbJRG4cj1",
        "outputId": "e3c23597-cbca-4175-f909-9b5345a4a10c"
      },
      "execution_count": null,
      "outputs": [
        {
          "output_type": "stream",
          "name": "stdout",
          "text": [
            "olleh\n"
          ]
        }
      ]
    },
    {
      "cell_type": "code",
      "source": [
        "def checkleapyear(year):\n",
        "  if year % 4 == 0:\n",
        "    if year % 100 == 0:\n",
        "      if year % 400 == 0:\n",
        "        return True\n",
        "      else:\n",
        "        return False\n",
        "    else:\n",
        "      return True\n",
        "  else:\n",
        "    return False\n",
        "\n",
        "print(checkleapyear(2020))"
      ],
      "metadata": {
        "colab": {
          "base_uri": "https://localhost:8080/"
        },
        "id": "S91FLP81624L",
        "outputId": "afacab09-74c1-4110-a485-8608556c36b7"
      },
      "execution_count": null,
      "outputs": [
        {
          "output_type": "stream",
          "name": "stdout",
          "text": [
            "True\n"
          ]
        }
      ]
    },
    {
      "cell_type": "code",
      "source": [
        "string1 = \"This is awesome\"\n",
        "vowels = ['a','e','i','o','u']\n",
        "for i in string1:\n",
        "  if i in vowels:\n",
        "    print(i)\n"
      ],
      "metadata": {
        "colab": {
          "base_uri": "https://localhost:8080/"
        },
        "id": "EtGQJRq17hQY",
        "outputId": "be1cfa69-e468-4236-e3c3-7f1ee3846d95"
      },
      "execution_count": null,
      "outputs": [
        {
          "output_type": "stream",
          "name": "stdout",
          "text": [
            "i\n",
            "i\n",
            "a\n",
            "e\n",
            "o\n",
            "e\n"
          ]
        }
      ]
    },
    {
      "cell_type": "code",
      "source": [
        "list1 = [1,2,3,4,5,100]\n",
        "tuple1 = (max(list1),min(list1))\n",
        "print(tuple1)"
      ],
      "metadata": {
        "colab": {
          "base_uri": "https://localhost:8080/"
        },
        "id": "APZj2Tsp8QbN",
        "outputId": "b92bec63-4d39-4f83-9911-0b353d0322ef"
      },
      "execution_count": null,
      "outputs": [
        {
          "output_type": "stream",
          "name": "stdout",
          "text": [
            "(100, 1)\n"
          ]
        }
      ]
    },
    {
      "cell_type": "code",
      "source": [
        "def sumevennos(list1):\n",
        "  sum = 0\n",
        "  for i in list1:\n",
        "    if i%2 == 0:\n",
        "      sum+=i;\n",
        "  return sum\n",
        "\n",
        "print(sumevennos([1,2,3,4,5,6]))"
      ],
      "metadata": {
        "colab": {
          "base_uri": "https://localhost:8080/"
        },
        "id": "pqq7jd189Kxi",
        "outputId": "57a1f590-7d6f-4b73-d954-9ae6d94ccd5d"
      },
      "execution_count": null,
      "outputs": [
        {
          "output_type": "stream",
          "name": "stdout",
          "text": [
            "12\n"
          ]
        }
      ]
    },
    {
      "cell_type": "code",
      "source": [
        "def secondlargest(list1):\n",
        "  list1.sort()\n",
        "  list2 = list(set(list1))\n",
        "  if len(list2) < 2:\n",
        "    return \"None\"\n",
        "  else:\n",
        "    return (list2[-2])\n",
        "\n",
        "secondlargest([5,5,5])"
      ],
      "metadata": {
        "colab": {
          "base_uri": "https://localhost:8080/",
          "height": 35
        },
        "id": "EmS-VDzV9m8P",
        "outputId": "8884ba3e-293f-4dab-eeb1-23ec6a9c4344"
      },
      "execution_count": null,
      "outputs": [
        {
          "output_type": "execute_result",
          "data": {
            "text/plain": [
              "'None'"
            ],
            "application/vnd.google.colaboratory.intrinsic+json": {
              "type": "string"
            }
          },
          "metadata": {},
          "execution_count": 49
        }
      ]
    },
    {
      "cell_type": "code",
      "source": [
        "string1 = \"This is      assignment number 1\"\n",
        "print(string1.replace(\" \",\"\"))"
      ],
      "metadata": {
        "colab": {
          "base_uri": "https://localhost:8080/"
        },
        "id": "1EDZgTk3_jI1",
        "outputId": "dab77311-cce9-4b78-875b-380052b32db7"
      },
      "execution_count": null,
      "outputs": [
        {
          "output_type": "stream",
          "name": "stdout",
          "text": [
            "Thisisassignmentnumber1\n"
          ]
        }
      ]
    },
    {
      "cell_type": "code",
      "source": [
        "string1 = \"The quick brown fox is cunning\"\n",
        "list1 = string1.split(\" \")\n",
        "list2=[]\n",
        "for i in list1:\n",
        "  list2.append(len(i))\n",
        "print(max(list2))"
      ],
      "metadata": {
        "id": "mlHr1K9M_7me",
        "colab": {
          "base_uri": "https://localhost:8080/"
        },
        "outputId": "bd5f6153-61f1-4302-9d24-7ad00cde9edb"
      },
      "execution_count": 6,
      "outputs": [
        {
          "output_type": "stream",
          "name": "stdout",
          "text": [
            "7\n"
          ]
        }
      ]
    },
    {
      "cell_type": "code",
      "source": [
        "def multiplicationtable(n):\n",
        "  for i in range(1,11):\n",
        "    stringconcat = \"{} x {} = {}\".format(n,i,n*i)\n",
        "    print(stringconcat)\n",
        "\n",
        "multiplicationtable(3)"
      ],
      "metadata": {
        "colab": {
          "base_uri": "https://localhost:8080/"
        },
        "id": "8iprqOjINfpY",
        "outputId": "0a2fa2d0-0f29-4249-a61e-658387917abb"
      },
      "execution_count": 11,
      "outputs": [
        {
          "output_type": "stream",
          "name": "stdout",
          "text": [
            "3 x 1 = 3\n",
            "3 x 2 = 6\n",
            "3 x 3 = 9\n",
            "3 x 4 = 12\n",
            "3 x 5 = 15\n",
            "3 x 6 = 18\n",
            "3 x 7 = 21\n",
            "3 x 8 = 24\n",
            "3 x 9 = 27\n",
            "3 x 10 = 30\n"
          ]
        }
      ]
    },
    {
      "cell_type": "code",
      "source": [
        "def isprime(n):\n",
        "  if n == 1:\n",
        "    return False\n",
        "  elif n == 2:\n",
        "    return True\n",
        "  for i in range(2,n):\n",
        "    if n%i == 0:\n",
        "      return False\n",
        "    else:\n",
        "      return True\n",
        "\n",
        "def printprime(x,y):\n",
        "  for i in range(x,y+1):\n",
        "    if isprime(i):\n",
        "      print(i)\n",
        "\n",
        "printprime(1,19)\n"
      ],
      "metadata": {
        "colab": {
          "base_uri": "https://localhost:8080/"
        },
        "id": "j4zc_tqEST_x",
        "outputId": "5b7ddaf2-27dc-47a6-adb1-e1366d35a8f9"
      },
      "execution_count": 26,
      "outputs": [
        {
          "output_type": "stream",
          "name": "stdout",
          "text": [
            "2\n",
            "3\n",
            "5\n",
            "7\n",
            "9\n",
            "11\n",
            "13\n",
            "15\n",
            "17\n",
            "19\n"
          ]
        }
      ]
    },
    {
      "cell_type": "code",
      "source": [
        "for i in range(2,5):\n",
        "  print(i)"
      ],
      "metadata": {
        "colab": {
          "base_uri": "https://localhost:8080/"
        },
        "id": "A6q8QPlsWne1",
        "outputId": "73b71f2b-379b-49fa-dd70-a8db8ec73d2b"
      },
      "execution_count": 23,
      "outputs": [
        {
          "output_type": "stream",
          "name": "stdout",
          "text": [
            "2\n",
            "3\n",
            "4\n"
          ]
        }
      ]
    },
    {
      "cell_type": "code",
      "source": [],
      "metadata": {
        "id": "0dpPSVDHNxTt"
      },
      "execution_count": null,
      "outputs": []
    }
  ]
}